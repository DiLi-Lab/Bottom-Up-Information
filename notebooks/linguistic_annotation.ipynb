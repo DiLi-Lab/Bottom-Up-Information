{
 "cells": [
  {
   "cell_type": "markdown",
   "id": "6c513198",
   "metadata": {},
   "source": [
    "# Linguistic Annotation -- ZH (Chr), EN -- surprisal, frequency"
   ]
  },
  {
   "cell_type": "code",
   "execution_count": 1,
   "id": "c4c94365",
   "metadata": {},
   "outputs": [
    {
     "name": "stdout",
     "output_type": "stream",
     "text": [
      "📁 Current working directory: /swdata/yin/Cui/EM/reveil\n"
     ]
    }
   ],
   "source": [
    "import os\n",
    "print(\"📁 Current working directory:\", os.getcwd())"
   ]
  },
  {
   "cell_type": "code",
   "execution_count": 2,
   "id": "aa92a09f",
   "metadata": {},
   "outputs": [],
   "source": [
    "import pandas as pd\n",
    "from wordfreq import tokenize\n",
    "from wordfreq import zipf_frequency\n",
    "from wordfreq import word_frequency"
   ]
  },
  {
   "cell_type": "code",
   "execution_count": 9,
   "id": "64fca9d0",
   "metadata": {},
   "outputs": [
    {
     "name": "stdout",
     "output_type": "stream",
     "text": [
      "📄 Reading file from: /swdata/yin/Cui/Re-Veil/create-dataset-new/database/chinese_characters_JunDa.csv\n",
      "✅ File loaded. Rows: 9933\n"
     ]
    }
   ],
   "source": [
    "# file_path = '/swdata/yin/Cui/EM/reveil/data/zh/zh-char/onestop/test_char_freqs.csv'\n",
    "file_path = '/swdata/yin/Cui/Re-Veil/create-dataset-new/database/chinese_characters_JunDa.csv'\n",
    "\n",
    "print(f\"📄 Reading file from: {file_path}\")\n",
    "df = pd.read_csv(file_path, sep=',', dtype={\n",
    "    \"label\": str,\n",
    "})\n",
    "# df = df.iloc[:, :1]\n",
    "df = df.dropna(subset=['label'])\n",
    "df['label'] = df['label'].astype(str)\n",
    "print(f\"✅ File loaded. Rows: {len(df)}\")"
   ]
  },
  {
   "cell_type": "code",
   "execution_count": 10,
   "id": "e6c9a4b5",
   "metadata": {},
   "outputs": [],
   "source": [
    "# for each word in column 'word', get the frequency\n",
    "# if the word is UNK], set the frequency to the frequency of the Chinese quatotion mark “\n",
    "def get_zipf_frequency(word):\n",
    "    if word == '[UNK]':\n",
    "        return zipf_frequency('“', 'zh')\n",
    "    else:\n",
    "        return zipf_frequency(word, 'zh')\n",
    "\n",
    "def get_normal_frequency(word):\n",
    "    if word == '[UNK]':\n",
    "        return word_frequency('“', 'zh')\n",
    "    else:\n",
    "        return word_frequency(word, 'zh')\n",
    "    "
   ]
  },
  {
   "cell_type": "code",
   "execution_count": 11,
   "id": "b37ef5df",
   "metadata": {},
   "outputs": [
    {
     "name": "stdout",
     "output_type": "stream",
     "text": [
      "✅ Frequency features added.\n"
     ]
    }
   ],
   "source": [
    "# Apply the function to the 'word' column\n",
    "df['zipf_freq'] = df['label'].apply(get_zipf_frequency)\n",
    "df['normal_freq'] = df['label'].apply(get_normal_frequency)\n",
    "# frequency in the corpus -- doc_freq\n",
    "# df['doc_freq'] = df['occurrence'] / df['occurrence'].sum()\n",
    "\n",
    "print(\"✅ Frequency features added.\")"
   ]
  },
  {
   "cell_type": "code",
   "execution_count": 12,
   "id": "735fcff3",
   "metadata": {},
   "outputs": [],
   "source": [
    "df = df.drop_duplicates(subset='label')\n",
    "df['zipf_freq'] = df['zipf_freq'] / df['zipf_freq'].sum()\n",
    "df['normal_freq'] = df['normal_freq'] / df['normal_freq'].sum()"
   ]
  },
  {
   "cell_type": "code",
   "execution_count": 13,
   "id": "c129bedb",
   "metadata": {},
   "outputs": [
    {
     "name": "stdout",
     "output_type": "stream",
     "text": [
      "💾 Saved to: /swdata/yin/Cui/EM/reveil/data/zh/zh-char/onestop/char_freqs_JunDa.csv\n"
     ]
    }
   ],
   "source": [
    "out_path = '/swdata/yin/Cui/EM/reveil/data/zh/zh-char/onestop/char_freqs_JunDa.csv'\n",
    "df.to_csv(out_path, index=False)\n",
    "print(f\"💾 Saved to: {out_path}\")"
   ]
  },
  {
   "cell_type": "code",
   "execution_count": 17,
   "id": "20d027f2",
   "metadata": {},
   "outputs": [
    {
     "name": "stdout",
     "output_type": "stream",
     "text": [
      "Entropy (in nats): 5.5852814074328805\n"
     ]
    },
    {
     "name": "stderr",
     "output_type": "stream",
     "text": [
      "/swdata/yin/miniconda3/envs/annotation/lib/python3.10/site-packages/pandas/core/arraylike.py:399: RuntimeWarning: divide by zero encountered in log\n",
      "  result = getattr(ufunc, method)(*inputs, **kwargs)\n"
     ]
    }
   ],
   "source": [
    "import pandas as pd\n",
    "import numpy as np\n",
    "\n",
    "# Load the CSV\n",
    "df = pd.read_csv('/swdata/yin/Cui/EM/reveil/data/zh/zh-char/onestop/char_freqs_JunDa.csv')\n",
    "\n",
    "# Extract the normal_freq column and normalize it\n",
    "freqs = df['normal_freq']\n",
    "probabilities = freqs / freqs.sum()\n",
    "\n",
    "# Calculate entropy in natural log base (nats)\n",
    "entropy = -np.sum(probabilities * np.log(probabilities))\n",
    "\n",
    "# print('freqs.sum():', freqs.sum())\n",
    "print(f\"Entropy (in nats): {entropy}\")\n"
   ]
  },
  {
   "cell_type": "markdown",
   "id": "53187641",
   "metadata": {},
   "source": [
    "## EN annotation"
   ]
  },
  {
   "cell_type": "code",
   "execution_count": 26,
   "id": "c0120625",
   "metadata": {},
   "outputs": [
    {
     "name": "stdout",
     "output_type": "stream",
     "text": [
      "📄 Reading file from: /swdata/yin/Cui/Re-Veil/create-dataset-new/database/SUBTLEXusfrequencyabove1.csv\n",
      "✅ File loaded. Rows: 60383\n"
     ]
    }
   ],
   "source": [
    "# file_path = '/swdata/yin/Cui/EM/reveil/data/en/onestop/test_word_freq.csv'\n",
    "\n",
    "file_path = '/swdata/yin/Cui/Re-Veil/create-dataset-new/database/SUBTLEXusfrequencyabove1.csv'\n",
    "\n",
    "print(f\"📄 Reading file from: {file_path}\")\n",
    "df = pd.read_csv(file_path, sep=',', dtype={\n",
    "    \"Word\": str,\n",
    "})\n",
    "df = df.rename(columns={\n",
    "    'Word': 'label',\n",
    "})\n",
    "df = df[['label']]\n",
    "df = df.dropna(subset=['label'])\n",
    "print(f\"✅ File loaded. Rows: {len(df)}\")"
   ]
  },
  {
   "cell_type": "code",
   "execution_count": 27,
   "id": "81d9ed2a",
   "metadata": {},
   "outputs": [],
   "source": [
    "# for each word in column 'word', get the frequency\n",
    "# if the word is UNK], set the frequency to the frequency of the Chinese quatotion mark “\n",
    "def get_zipf_frequency(word):\n",
    "    if word == '[UNK]':\n",
    "        return zipf_frequency('“', 'en')\n",
    "    else:\n",
    "        return zipf_frequency(word, 'en')\n",
    "\n",
    "def get_normal_frequency(word):\n",
    "    if word == '[UNK]':\n",
    "        return word_frequency('“', 'en')\n",
    "    else:\n",
    "        return word_frequency(word, 'en')"
   ]
  },
  {
   "cell_type": "code",
   "execution_count": 28,
   "id": "e042a822",
   "metadata": {},
   "outputs": [
    {
     "name": "stdout",
     "output_type": "stream",
     "text": [
      "✅ Frequency features added.\n"
     ]
    }
   ],
   "source": [
    "# Apply the function to the 'word' column\n",
    "df['zipf_freq'] = df['label'].apply(get_zipf_frequency)\n",
    "df['normal_freq'] = df['label'].apply(get_normal_frequency)\n",
    "# frequency in the corpus -- doc_freq\n",
    "# df['doc_freq'] = df['occurrence'] / df['occurrence'].sum()\n",
    "\n",
    "print(\"✅ Frequency features added.\")"
   ]
  },
  {
   "cell_type": "code",
   "execution_count": 29,
   "id": "29696f6e",
   "metadata": {},
   "outputs": [],
   "source": [
    "df = df.drop_duplicates(subset='label')\n",
    "df['zipf_freq'] = df['zipf_freq'] / df['zipf_freq'].sum()\n",
    "df['normal_freq'] = df['normal_freq'] / df['normal_freq'].sum()"
   ]
  },
  {
   "cell_type": "code",
   "execution_count": 30,
   "id": "6328d841",
   "metadata": {},
   "outputs": [
    {
     "name": "stdout",
     "output_type": "stream",
     "text": [
      "💾 Saved to: /swdata/yin/Cui/EM/reveil/data/en/onestop/word_freq_SUBTLEXus.csv\n"
     ]
    }
   ],
   "source": [
    "out_path = '/swdata/yin/Cui/EM/reveil/data/en/onestop/word_freq_SUBTLEXus.csv'\n",
    "df.to_csv(out_path, index=False)\n",
    "print(f\"💾 Saved to: {out_path}\")"
   ]
  },
  {
   "cell_type": "code",
   "execution_count": 31,
   "id": "73eaecb3",
   "metadata": {},
   "outputs": [
    {
     "name": "stdout",
     "output_type": "stream",
     "text": [
      "Entropy (in nats): 7.115893237767862\n"
     ]
    },
    {
     "name": "stderr",
     "output_type": "stream",
     "text": [
      "/swdata/yin/miniconda3/envs/annotation/lib/python3.10/site-packages/pandas/core/arraylike.py:399: RuntimeWarning: divide by zero encountered in log\n",
      "  result = getattr(ufunc, method)(*inputs, **kwargs)\n"
     ]
    }
   ],
   "source": [
    "import pandas as pd\n",
    "import numpy as np\n",
    "\n",
    "\n",
    "# Extract the normal_freq column and normalize it\n",
    "freqs = df['normal_freq']\n",
    "probabilities = freqs / freqs.sum()\n",
    "\n",
    "# Calculate entropy in natural log base (nats)\n",
    "entropy = -np.sum(probabilities * np.log(probabilities))\n",
    "\n",
    "# print('freqs.sum():', freqs.sum())\n",
    "print(f\"Entropy (in nats): {entropy}\")"
   ]
  },
  {
   "cell_type": "code",
   "execution_count": null,
   "id": "67e6f475",
   "metadata": {},
   "outputs": [],
   "source": []
  }
 ],
 "metadata": {
  "kernelspec": {
   "display_name": "annotation",
   "language": "python",
   "name": "python3"
  },
  "language_info": {
   "codemirror_mode": {
    "name": "ipython",
    "version": 3
   },
   "file_extension": ".py",
   "mimetype": "text/x-python",
   "name": "python",
   "nbconvert_exporter": "python",
   "pygments_lexer": "ipython3",
   "version": "3.10.14"
  }
 },
 "nbformat": 4,
 "nbformat_minor": 5
}
